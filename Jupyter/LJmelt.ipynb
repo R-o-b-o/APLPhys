{
 "cells": [
  {
   "cell_type": "markdown",
   "metadata": {},
   "source": [
    "# Lennard-Jones Melt\n",
    "A simple example of molecular dynamics in APL"
   ]
  },
  {
   "cell_type": "markdown",
   "metadata": {},
   "source": [
    "MD (Molecular dynamics) uses classical (Newtonian) mechanics to simulate physical systems. It has applications in biology research with programs like [GROMACS](http://www.gromacs.org/About_Gromacs); and in metallurgy and other materials science research with programs such as [LAMMPS](https://lammps.sandia.gov/). A list of other MD codes can be found [on the LAMMPS website](https://lammps.sandia.gov/other.html)."
   ]
  },
  {
   "cell_type": "markdown",
   "metadata": {},
   "source": [
    "In MD, interatomic / intermolecular forces are approximated using mathematical equations, and a numerical integrator is used to progress the simulation state from one time step to the next."
   ]
  },
  {
   "cell_type": "markdown",
   "metadata": {},
   "source": [
    "In this example, based on [this blog post from Jacob Martin](http://nznano.blogspot.com/2017/11/molecular-dynamics-in-python.html), a monatomic gas is simulated. Particle motion is described using the [Lennard-Jones potential](https://en.wikipedia.org/wiki/Lennard-Jones_potential), which describes long-range attraction ([Van der Waals force]](https://en.wikipedia.org/wiki/Van_der_Waals_force)) as well as short-range repulsion ([Pauli exclusion principle](https://en.wikipedia.org/wiki/Pauli_exclusion_principle)) between atoms. This description, while simplistic, models the behaviour of gases such as Argon and Helium quite well. The simulation is iterated through discrete time steps using the [velocity Verlet integrator](https://en.wikipedia.org/wiki/Verlet_integration#Velocity_Verlet), a commonly used [symplectic integrator](https://en.wikipedia.org/wiki/Symplectic_integrator)."
   ]
  },
  {
   "cell_type": "markdown",
   "metadata": {},
   "source": [
    "The equation for the Lennard-Jones potential is as follows:\n",
    "$$V_{LJ}=4 \\epsilon \\left [{ \\left ({\\sigma \\over r} \\right )^{12}}-{ \\left ({\\sigma \\over r} \\right )^{12}} \\right ]$$\n",
    "Where $\\epsilon$ is the depth of the potential well, $\\sigma$ is the finite distance at which the inter-particle potential is zero and $r$ is the inter-particle distance."
   ]
  },
  {
   "cell_type": "markdown",
   "metadata": {},
   "source": [
    "To make the computation more efficient, we ignore interactions past a cutoff distance ${r\\over \\sigma}=2.5$. However, as particles move out of this range there will be a jump in energy, which isn't realistic, so we shift the potential so that the potential energy is zero when ${r \\over \\sigma}=2.5$. Below is a plot of the potential energy function with the shifted potential for comparison."
   ]
  },
  {
   "cell_type": "code",
   "execution_count": 1,
   "metadata": {},
   "outputs": [
    {
     "data": {
      "text/html": [
       "<span style=\"white-space:pre; font-family: monospace\">C:\\Program Files\\Dyalog\\Dyalog APL-64 17.1 Unicode\\ws\\sharpplot.dws saved Wed Jun 12 19:39:10 2019\n",
       "</span>"
      ]
     },
     "execution_count": 1,
     "metadata": {},
     "output_type": "execute_result"
    }
   ],
   "source": [
    "⍝ Set up plotting library\n",
    ")copy sharpplot\n",
    "InitCauseway⍬"
   ]
  },
  {
   "cell_type": "code",
   "execution_count": 13,
   "metadata": {},
   "outputs": [],
   "source": [
    "∇ plot data;sp\n",
    "  ⍝ Plotting function\n",
    "  sp ← ⎕NEW SharpPlot\n",
    "  sp.Heading ← 'Lennard-Jones potential'\n",
    "  sp.XCaption ← 'r/',⎕UCS 963 ⍝ r / sigma\n",
    "  sp.YCaption ← 'E<sub><sub>LJ</sub></sub>/',⎕UCS 949 ⍝ E_LJ / epsilon\n",
    "  sp.SetKeyText('LJ plot' 'LJ plot shifted')\n",
    "  sp.SetXRange 0.8 1.6\n",
    "  sp.SetYRange ¯1.5 1.5\n",
    "  sp.SetXAxisStyle XAxisStyles.(GridLines + CenteredCaption)\n",
    "  sp.SetYAxisStyle YAxisStyles.(GridLines + CenteredCaption)\n",
    "  :For data :In data\n",
    "    sp.DrawLineGraph data\n",
    "  :EndFor    \n",
    "  View sp\n",
    "∇"
   ]
  },
  {
   "cell_type": "code",
   "execution_count": 9,
   "metadata": {},
   "outputs": [],
   "source": [
    "LJ ← {4×-/⍵∘.*¯12 ¯6} ⍝ Lennard-Jones potential function"
   ]
  },
  {
   "cell_type": "code",
   "execution_count": 14,
   "metadata": {},
   "outputs": [
    {
     "data": {
      "text/html": [
       "<svg version=\"1.1\" baseProfile=\"full\" width=\"100%\" height=\"100%\" viewBox=\"0 0 4320 3240\"  xmlns=\"http://www.w3.org/2000/svg\" xmlns:xlink=\"http://www.w3.org/1999/xlink\" xmlns:ev=\"http://www.w3.org/2001/xml-events\" >\n",
       " <title>Lennard-Jones potential</title>\n",
       "<desc>Created by Causeway SVG engine - SharpPlot v3.62.2</desc>\n",
       "<g stroke-miterlimit=\"100\">\n",
       "<desc>Paint the paper =====</desc>\n",
       " <g fill=\"White\" >\n",
       "  <rect x=\"0\" y=\"0\" width=\"4320\" height=\"3240\" />\n",
       " </g>\n",
       "<desc>Border =====</desc>\n",
       "<desc>Region =====</desc>\n",
       "<desc>X-Axis Ticks =====</desc>\n",
       "<desc>X-Axis Grid</desc>\n",
       " <path fill=\"none\" stroke-width=\"1.8\" stroke=\"Silver\" d=\"M400 2720L400 460M631 2720L631 460M863 2720L863 460M1094 2720L1094 460M1325 2720L1325 460M1556 2720L1556 460M1788 2720L1788 460M2019 2720L2019 460M2250 2720L2250 460M2481 2720L2481 460M2713 2720L2713 460M2944 2720L2944 460M3175 2720L3175 460M3406 2720L3406 460M3638 2720L3638 460M3869 2720L3869 460M4100 2720L4100 460\"/>\n",
       "<desc>X-Axis tickmarks</desc>\n",
       " <path fill=\"none\" stroke-width=\"7.2\" stroke=\"Black\" d=\"M400 2720L400 2764M631 2720L631 2764M863 2720L863 2764M1094 2720L1094 2764M1325 2720L1325 2764M1556 2720L1556 2764M1788 2720L1788 2764M2019 2720L2019 2764M2250 2720L2250 2764M2481 2720L2481 2764M2713 2720L2713 2764M2944 2720L2944 2764M3175 2720L3175 2764M3406 2720L3406 2764M3638 2720L3638 2764M3869 2720L3869 2764M4100 2720L4100 2764\"/>\n",
       "<desc>Y-Axis Ticks =====</desc>\n",
       "<desc>Y grid</desc>\n",
       " <path fill=\"none\" stroke-width=\"1.8\" stroke=\"Silver\" d=\"M400 2720L4100 2720M400 2343L4100 2343M400 1967L4100 1967M400 1590L4100 1590M400 1213L4100 1213M400 837L4100 837M400 460L4100 460\"/>\n",
       "<desc>Y-Axis tickmarks</desc>\n",
       " <path fill=\"none\" stroke-width=\"7.2\" stroke=\"Black\" d=\"M400 2720L367 2720M400 2343L367 2343M400 1967L367 1967M400 1590L367 1590M400 1213L367 1213M400 837L367 837M400 460L367 460\"/>\n",
       "<desc>Axes =====</desc>\n",
       " <path fill=\"none\" stroke-width=\"12\" stroke=\"Black\" d=\"M400 2764L400 416M356 2720L4144 2720\"/>\n",
       "<desc>Y-axis labels</desc>\n",
       " <g font-family=\"Times New Roman\" font-size=\"80\" text-anchor=\"end\" >\n",
       "  <text x=\"335\" y=\"2740\" >-1.5</text>\n",
       "  <text x=\"335\" y=\"2363\" >-1</text>\n",
       "  <text x=\"335\" y=\"1987\" >-0.5</text>\n",
       "  <text x=\"335\" y=\"1610\" >0</text>\n",
       "  <text x=\"335\" y=\"1233\" >0.5</text>\n",
       "  <text x=\"335\" y=\"857\" >1</text>\n",
       "  <text x=\"335\" y=\"480\" >1.5</text>\n",
       " </g>\n",
       "<desc>for X-axis labels</desc>\n",
       " <g font-family=\"Times New Roman\" font-size=\"80\" text-anchor=\"middle\" >\n",
       "  <text x=\"400\" y=\"2844\" >0.8</text>\n",
       "  <text x=\"631\" y=\"2844\" >0.85</text>\n",
       "  <text x=\"863\" y=\"2844\" >0.9</text>\n",
       "  <text x=\"1094\" y=\"2844\" >0.95</text>\n",
       "  <text x=\"1325\" y=\"2844\" >1</text>\n",
       "  <text x=\"1556\" y=\"2844\" >1.05</text>\n",
       "  <text x=\"1788\" y=\"2844\" >1.1</text>\n",
       "  <text x=\"2019\" y=\"2844\" >1.15</text>\n",
       "  <text x=\"2250\" y=\"2844\" >1.2</text>\n",
       "  <text x=\"2481\" y=\"2844\" >1.25</text>\n",
       "  <text x=\"2713\" y=\"2844\" >1.3</text>\n",
       "  <text x=\"2944\" y=\"2844\" >1.35</text>\n",
       "  <text x=\"3175\" y=\"2844\" >1.4</text>\n",
       "  <text x=\"3406\" y=\"2844\" >1.45</text>\n",
       "  <text x=\"3638\" y=\"2844\" >1.5</text>\n",
       "  <text x=\"3869\" y=\"2844\" >1.55</text>\n",
       "  <text x=\"4100\" y=\"2844\" >1.6</text>\n",
       " </g>\n",
       "<desc>Y-Captions: text and effects</desc>\n",
       " <g transform=\"translate(160 1590) rotate(-90)\" fill=\"Teal\" font-family=\"Times New Roman\" font-size=\"100\" text-anchor=\"middle\" >\n",
       "  <text>E<tspan baseline-shift=\"sub\" font-size=\"68%\"><tspan baseline-shift=\"sub\" font-size=\"68%\">LJ</tspan></tspan>/ε</text>\n",
       " </g>\n",
       "<desc>X-Caption: text and effects</desc>\n",
       " <g fill=\"Teal\" font-family=\"Times New Roman\" font-size=\"100\" text-anchor=\"middle\" >\n",
       "  <text x=\"2250\" y=\"2984\" >r/σ</text>\n",
       " </g>\n",
       "<desc>Heading, subheading and footnotes =====</desc>\n",
       "<desc>Heading</desc>\n",
       " <g fill=\"Navy\" font-family=\"Times New Roman\" font-size=\"180\" text-anchor=\"middle\" >\n",
       "  <text x=\"2160\" y=\"292\" >Lennard-Jones potential</text>\n",
       " </g>\n",
       "<desc>Start of Line Chart ===========</desc>\n",
       "<desc>Points follow ...</desc>\n",
       "<desc>Clipped Line</desc>\n",
       " <g stroke-width=\"3\" stroke=\"Navy\" stroke-linejoin=\"round\" stroke-linecap=\"round\" fill=\"none\" >\n",
       "  <path d=\"M4280 1737L4276 1738 4271 1738 4267 1739 4262 1739 4257 1740 4253 1741 4248 1741 4243 1742 4239 1742 4234 1743 4230 1743 4225 1744 4220 1744 4216 1745 4211 1745 4206 1746 4202 1746 4197 1747 4193 1747 4188 1748 4183 1749 4179 1749 4174 1750 4169 1750 4165 1751 4160 1751 4156 1752 4151 1753 4146 1753 4142 1754 4137 1754 4132 1755 4128 1755 4123 1756 4119 1757 4114 1757 4109 1758 4105 1758 4100 1759 4095 1759 4091 1760 4086 1761 4082 1761 4077 1762 4072 1763 4068 1763 4063 1764 4058 1764 4054 1765 4049 1766 4045 1766 4040 1767 4035 1767 4031 1768 4026 1769 4021 1769 4017 1770 4012 1771 4008 1771 4003 1772 3998 1773 3994 1773 3989 1774 3984 1774 3980 1775 3975 1776 3971 1776 3966 1777 3961 1778 3957 1778 3952 1779 3947 1780 3943 1780 3938 1781 3934 1782 3929 1783 3924 1783 3920 1784 3915 1785 3910 1785 3906 1786 3901 1787 3897 1787 3892 1788 3887 1789 3883 1789 3878 1790 3873 1791 3869 1792 3864 1792 3860 1793 3855 1794 3850 1795 3846 1795 3841 1796 3836 1797 3832 1797 3827 1798 3823 1799 3818 1800 3813 1800 3809 1801 3804 1802 3799 1803 3795 1804 3790 1804 3786 1805 3781 1806 3776 1807 3772 1807 3767 1808 3762 1809 3758 1810 3753 1811 3749 1811 3744 1812 3739 1813 3735 1814 3730 1815 3725 1815 3721 1816 3716 1817 3712 1818 3707 1819 3702 1819 3698 1820 3693 1821 3688 1822 3684 1823 3679 1824 3675 1824 3670 1825 3665 1826 3661 1827 3656 1828 3651 1829 3647 1830 3642 1830 3638 1831 3633 1832 3628 1833 3624 1834 3619 1835 3614 1836 3610 1837 3605 1838 3601 1838 3596 1839 3591 1840 3587 1841 3582 1842 3577 1843 3573 1844 3568 1845 3564 1846 3559 1847 3554 1848 3550 1849 3545 1849 3540 1850 3536 1851 3531 1852 3527 1853 3522 1854 3517 1855 3513 1856 3508 1857 3503 1858 3499 1859 3494 1860 3490 1861 3485 1862 3480 1863 3476 1864 3471 1865 3466 1866 3462 1867 3457 1868 3453 1869 3448 1870 3443 1871 3439 1872 3434 1873 3429 1874 3425 1875 3420 1876 3416 1877 3411 1878 3406 1879 3402 1880 3397 1881 3392 1883 3388 1884 3383 1885 3379 1886 3374 1887 3369 1888 3365 1889 3360 1890 3355 1891 3351 1892 3346 1893 3342 1894 3337 1896 3332 1897 3328 1898 3323 1899 3318 1900 3314 1901 3309 1902 3305 1903 3300 1905 3295 1906 3291 1907 3286 1908 3281 1909 3277 1910 3272 1912 3268 1913 3263 1914 3258 1915 3254 1916 3249 1917 3244 1919 3240 1920 3235 1921 3231 1922 3226 1923 3221 1925 3217 1926 3212 1927 3207 1928 3203 1930 3198 1931 3194 1932 3189 1933 3184 1935 3180 1936 3175 1937 3170 1938 3166 1940 3161 1941 3157 1942 3152 1943 3147 1945 3143 1946 3138 1947 3133 1949 3129 1950 3124 1951 3120 1952 3115 1954 3110 1955 3106 1956 3101 1958 3096 1959 3092 1960 3087 1962 3083 1963 3078 1964 3073 1966 3069 1967 3064 1969 3059 1970 3055 1971 3050 1973 3046 1974 3041 1975 3036 1977 3032 1978 3027 1980 3022 1981 3018 1982 3013 1984 3009 1985 3004 1987 2999 1988 2995 1990 2990 1991 2985 1992 2981 1994 2976 1995 2972 1997 2967 1998 2962 2000 2958 2001 2953 2003 2948 2004 2944 2006 2939 2007 2935 2009 2930 2010 2925 2012 2921 2013 2916 2015 2911 2016 2907 2018 2902 2019 2898 2021 2893 2022 2888 2024 2884 2025 2879 2027 2874 2028 2870 2030 2865 2031 2861 2033 2856 2034 2851 2036 2847 2038 2842 2039 2837 2041 2833 2042 2828 2044 2824 2046 2819 2047 2814 2049 2810 2050 2805 2052 2800 2054 2796 2055 2791 2057 2787 2058 2782 2060 2777 2062 2773 2063 2768 2065 2763 2067 2759 2068 2754 2070 2750 2072 2745 2073 2740 2075 2736 2077 2731 2078 2726 2080 2722 2082 2717 2083 2713 2085 2708 2087 2703 2088 2699 2090 2694 2092 2689 2093 2685 2095 2680 2097 2676 2099 2671 2100 2666 2102 2662 2104 2657 2105 2652 2107 2648 2109 2643 2111 2639 2112 2634 2114 2629 2116 2625 2118 2620 2119 2615 2121 2611 2123 2606 2125 2602 2126 2597 2128 2592 2130 2588 2132 2583 2133 2578 2135 2574 2137 2569 2139 2565 2141 2560 2142 2555 2144 2551 2146 2546 2148 2541 2149 2537 2151 2532 2153 2528 2155 2523 2157 2518 2158 2514 2160 2509 2162 2504 2164 2500 2166 2495 2167 2491 2169 2486 2171 2481 2173 2477 2175 2472 2176 2467 2178 2463 2180 2458 2182 2454 2184 2449 2185 2444 2187 2440 2189 2435 2191 2430 2193 2426 2195 2421 2196 2417 2198 2412 2200 2407 2202 2403 2204 2398 2205 2393 2207 2389 2209 2384 2211 2380 2212 2375 2214 2370 2216 2366 2218 2361 2220 2356 2221 2352 2223 2347 2225 2343 2227 2338 2228 2333 2230 2329 2232 2324 2234 2319 2236 2315 2237 2310 2239 2306 2241 2301 2242 2296 2244 2292 2246 2287 2248 2282 2249 2278 2251 2273 2253 2269 2254 2264 2256 2259 2258 2255 2260 2250 2261 2245 2263 2241 2265 2236 2266 2232 2268 2227 2269 2222 2271 2218 2273 2213 2274 2208 2276 2204 2277 2199 2279 2195 2281 2190 2282 2185 2284 2181 2285 2176 2287 2171 2288 2167 2290 2162 2291 2158 2293 2153 2294 2148 2296 2144 2297 2139 2299 2134 2300 2130 2301 2125 2303 2121 2304 2116 2305 2111 2307 2107 2308 2102 2309 2097 2311 2093 2312 2088 2313 2084 2314 2079 2316 2074 2317 2070 2318 2065 2319 2060 2320 2056 2321 2051 2323 2047 2324 2042 2325 2037 2326 2033 2327 2028 2328 2023 2329 2019 2330 2014 2330 2010 2331 2005 2332 2000 2333 1996 2334 1991 2335 1986 2335 1982 2336 1977 2337 1973 2337 1968 2338 1963 2339 1959 2339 1954 2340 1949 2340 1945 2341 1940 2341 1936 2341 1931 2342 1926 2342 1922 2342 1917 2343 1912 2343 1908 2343 1903 2343 1899 2343 1894 2343 1889 2343 1885 2343 1880 2343 1875 2343 1871 2343 1866 2343 1862 2342 1857 2342 1852 2342 1848 2341 1843 2341 1838 2340 1834 2340 1829 2339 1825 2338 1820 2338 1815 2337 1811 2336 1806 2335 1801 2334 1797 2333 1792 2332 1788 2331 1783 2330 1778 2328 1774 2327 1769 2325 1764 2324 1760 2322 1755 2321 1751 2319 1746 2317 1741 2315 1737 2313 1732 2311 1727 2309 1723 2307 1718 2305 1714 2303 1709 2300 1704 2298 1700 2295 1695 2292 1690 2289 1686 2287 1681 2284 1677 2281 1672 2277 1667 2274 1663 2271 1658 2267 1653 2264 1649 2260 1644 2256 1640 2252 1635 2248 1630 2244 1626 2240 1621 2235 1616 2231 1612 2226 1607 2222 1603 2217 1598 2212 1593 2207 1589 2201 1584 2196 1579 2190 1575 2185 1570 2179 1566 2173 1561 2167 1556 2161 1552 2154 1547 2148 1542 2141 1538 2134 1533 2127 1529 2120 1524 2113 1519 2105 1515 2097 1510 2089 1505 2081 1501 2073 1496 2065 1492 2056 1487 2047 1482 2038 1478 2029 1473 2020 1468 2010 1464 2000 1459 1990 1455 1980 1450 1969 1445 1959 1441 1948 1436 1937 1431 1925 1427 1914 1422 1902 1418 1890 1413 1877 1408 1865 1404 1852 1399 1839 1394 1826 1390 1812 1385 1798 1381 1784 1376 1769 1371 1755 1367 1739 1362 1724 1357 1708 1353 1692 1348 1676 1344 1660 1339 1643 1334 1625 1330 1608 1325 1590 1320 1572 1316 1553 1311 1534 1307 1515 1302 1495 1297 1475 1293 1455 1288 1434 1283 1413 1279 1391 1274 1369 1270 1347 1265 1324 1260 1301 1256 1277 1251 1253 1246 1228 1242 1203 1237 1178 1233 1152 1228 1125 1223 1098 1219 1071 1214 1043 1209 1015 1205 986 1200 956 1196 926 1191 896 1186 865 1182 833 1177 801 1172 768 1168 735 1163 701 1159 666 1154 631 1149 595 1145 559 1140 522 1135 484 1131 445 1126 406 1122 367 1117 326 1112 285 1108 243 1103 200 1098 157 1094 113 1089 68 1086 40\" />\n",
       " </g>\n",
       "<desc>Start of Line Chart ===========</desc>\n",
       "<desc>Points follow ...</desc>\n",
       "<desc>Clipped Line</desc>\n",
       " <g stroke-width=\"3\" stroke=\"Maroon\" stroke-linejoin=\"round\" stroke-linecap=\"round\" stroke-dasharray=\"9 12\" fill=\"none\" >\n",
       "  <path d=\"M4280 1725L4276 1726 4271 1726 4267 1727 4262 1727 4257 1728 4253 1728 4248 1729 4243 1729 4239 1730 4234 1730 4230 1731 4225 1731 4220 1732 4216 1732 4211 1733 4206 1734 4202 1734 4197 1735 4193 1735 4188 1736 4183 1736 4179 1737 4174 1737 4169 1738 4165 1739 4160 1739 4156 1740 4151 1740 4146 1741 4142 1741 4137 1742 4132 1743 4128 1743 4123 1744 4119 1744 4114 1745 4109 1745 4105 1746 4100 1747 4095 1747 4091 1748 4086 1748 4082 1749 4077 1750 4072 1750 4068 1751 4063 1751 4058 1752 4054 1753 4049 1753 4045 1754 4040 1755 4035 1755 4031 1756 4026 1756 4021 1757 4017 1758 4012 1758 4008 1759 4003 1760 3998 1760 3994 1761 3989 1762 3984 1762 3980 1763 3975 1763 3971 1764 3966 1765 3961 1765 3957 1766 3952 1767 3947 1767 3943 1768 3938 1769 3934 1770 3929 1770 3924 1771 3920 1772 3915 1772 3910 1773 3906 1774 3901 1774 3897 1775 3892 1776 3887 1776 3883 1777 3878 1778 3873 1779 3869 1779 3864 1780 3860 1781 3855 1782 3850 1782 3846 1783 3841 1784 3836 1784 3832 1785 3827 1786 3823 1787 3818 1787 3813 1788 3809 1789 3804 1790 3799 1790 3795 1791 3790 1792 3786 1793 3781 1794 3776 1794 3772 1795 3767 1796 3762 1797 3758 1797 3753 1798 3749 1799 3744 1800 3739 1801 3735 1801 3730 1802 3725 1803 3721 1804 3716 1805 3712 1805 3707 1806 3702 1807 3698 1808 3693 1809 3688 1810 3684 1810 3679 1811 3675 1812 3670 1813 3665 1814 3661 1815 3656 1816 3651 1816 3647 1817 3642 1818 3638 1819 3633 1820 3628 1821 3624 1822 3619 1823 3614 1823 3610 1824 3605 1825 3601 1826 3596 1827 3591 1828 3587 1829 3582 1830 3577 1831 3573 1832 3568 1832 3564 1833 3559 1834 3554 1835 3550 1836 3545 1837 3540 1838 3536 1839 3531 1840 3527 1841 3522 1842 3517 1843 3513 1844 3508 1845 3503 1846 3499 1847 3494 1848 3490 1849 3485 1850 3480 1851 3476 1852 3471 1853 3466 1854 3462 1855 3457 1856 3453 1857 3448 1858 3443 1859 3439 1860 3434 1861 3429 1862 3425 1863 3420 1864 3416 1865 3411 1866 3406 1867 3402 1868 3397 1869 3392 1870 3388 1871 3383 1872 3379 1873 3374 1875 3369 1876 3365 1877 3360 1878 3355 1879 3351 1880 3346 1881 3342 1882 3337 1883 3332 1884 3328 1886 3323 1887 3318 1888 3314 1889 3309 1890 3305 1891 3300 1892 3295 1893 3291 1895 3286 1896 3281 1897 3277 1898 3272 1899 3268 1900 3263 1902 3258 1903 3254 1904 3249 1905 3244 1906 3240 1908 3235 1909 3231 1910 3226 1911 3221 1912 3217 1914 3212 1915 3207 1916 3203 1917 3198 1919 3194 1920 3189 1921 3184 1922 3180 1924 3175 1925 3170 1926 3166 1927 3161 1929 3157 1930 3152 1931 3147 1932 3143 1934 3138 1935 3133 1936 3129 1938 3124 1939 3120 1940 3115 1942 3110 1943 3106 1944 3101 1945 3096 1947 3092 1948 3087 1949 3083 1951 3078 1952 3073 1954 3069 1955 3064 1956 3059 1958 3055 1959 3050 1960 3046 1962 3041 1963 3036 1965 3032 1966 3027 1967 3022 1969 3018 1970 3013 1972 3009 1973 3004 1974 2999 1976 2995 1977 2990 1979 2985 1980 2981 1982 2976 1983 2972 1984 2967 1986 2962 1987 2958 1989 2953 1990 2948 1992 2944 1993 2939 1995 2935 1996 2930 1998 2925 1999 2921 2001 2916 2002 2911 2004 2907 2005 2902 2007 2898 2008 2893 2010 2888 2011 2884 2013 2879 2014 2874 2016 2870 2018 2865 2019 2861 2021 2856 2022 2851 2024 2847 2025 2842 2027 2837 2028 2833 2030 2828 2032 2824 2033 2819 2035 2814 2036 2810 2038 2805 2040 2800 2041 2796 2043 2791 2045 2787 2046 2782 2048 2777 2049 2773 2051 2768 2053 2763 2054 2759 2056 2754 2058 2750 2059 2745 2061 2740 2063 2736 2064 2731 2066 2726 2068 2722 2069 2717 2071 2713 2073 2708 2074 2703 2076 2699 2078 2694 2079 2689 2081 2685 2083 2680 2085 2676 2086 2671 2088 2666 2090 2662 2091 2657 2093 2652 2095 2648 2097 2643 2098 2639 2100 2634 2102 2629 2104 2625 2105 2620 2107 2615 2109 2611 2111 2606 2112 2602 2114 2597 2116 2592 2118 2588 2119 2583 2121 2578 2123 2574 2125 2569 2126 2565 2128 2560 2130 2555 2132 2551 2134 2546 2135 2541 2137 2537 2139 2532 2141 2528 2143 2523 2144 2518 2146 2514 2148 2509 2150 2504 2152 2500 2153 2495 2155 2491 2157 2486 2159 2481 2161 2477 2162 2472 2164 2467 2166 2463 2168 2458 2170 2454 2171 2449 2173 2444 2175 2440 2177 2435 2179 2430 2180 2426 2182 2421 2184 2417 2186 2412 2188 2407 2189 2403 2191 2398 2193 2393 2195 2389 2197 2384 2198 2380 2200 2375 2202 2370 2204 2366 2206 2361 2207 2356 2209 2352 2211 2347 2213 2343 2214 2338 2216 2333 2218 2329 2220 2324 2221 2319 2223 2315 2225 2310 2227 2306 2228 2301 2230 2296 2232 2292 2234 2287 2235 2282 2237 2278 2239 2273 2240 2269 2242 2264 2244 2259 2246 2255 2247 2250 2249 2245 2251 2241 2252 2236 2254 2232 2256 2227 2257 2222 2259 2218 2260 2213 2262 2208 2264 2204 2265 2199 2267 2195 2268 2190 2270 2185 2271 2181 2273 2176 2274 2171 2276 2167 2277 2162 2279 2158 2280 2153 2282 2148 2283 2144 2285 2139 2286 2134 2288 2130 2289 2125 2290 2121 2292 2116 2293 2111 2294 2107 2296 2102 2297 2097 2298 2093 2300 2088 2301 2084 2302 2079 2303 2074 2305 2070 2306 2065 2307 2060 2308 2056 2309 2051 2310 2047 2311 2042 2312 2037 2313 2033 2314 2028 2315 2023 2316 2019 2317 2014 2318 2010 2319 2005 2320 2000 2321 1996 2322 1991 2322 1986 2323 1982 2324 1977 2324 1973 2325 1968 2326 1963 2326 1959 2327 1954 2327 1949 2328 1945 2328 1940 2329 1936 2329 1931 2330 1926 2330 1922 2330 1917 2330 1912 2331 1908 2331 1903 2331 1899 2331 1894 2331 1889 2331 1885 2331 1880 2331 1875 2331 1871 2331 1866 2330 1862 2330 1857 2330 1852 2329 1848 2329 1843 2329 1838 2328 1834 2327 1829 2327 1825 2326 1820 2325 1815 2325 1811 2324 1806 2323 1801 2322 1797 2321 1792 2320 1788 2319 1783 2317 1778 2316 1774 2315 1769 2313 1764 2312 1760 2310 1755 2308 1751 2307 1746 2305 1741 2303 1737 2301 1732 2299 1727 2297 1723 2295 1718 2293 1714 2290 1709 2288 1704 2285 1700 2283 1695 2280 1690 2277 1686 2274 1681 2271 1677 2268 1672 2265 1667 2262 1663 2258 1658 2255 1653 2251 1649 2248 1644 2244 1640 2240 1635 2236 1630 2232 1626 2228 1621 2223 1616 2219 1612 2214 1607 2209 1603 2204 1598 2199 1593 2194 1589 2189 1584 2184 1579 2178 1575 2172 1570 2167 1566 2161 1561 2155 1556 2148 1552 2142 1547 2135 1542 2129 1538 2122 1533 2115 1529 2108 1524 2100 1519 2093 1515 2085 1510 2077 1505 2069 1501 2061 1496 2052 1492 2044 1487 2035 1482 2026 1478 2017 1473 2007 1468 1998 1464 1988 1459 1978 1455 1968 1450 1957 1445 1946 1441 1936 1436 1924 1431 1913 1427 1901 1422 1890 1418 1877 1413 1865 1408 1853 1404 1840 1399 1827 1394 1813 1390 1800 1385 1786 1381 1771 1376 1757 1371 1742 1367 1727 1362 1712 1357 1696 1353 1680 1348 1664 1344 1647 1339 1630 1334 1613 1330 1596 1325 1578 1320 1559 1316 1541 1311 1522 1307 1503 1302 1483 1297 1463 1293 1442 1288 1422 1283 1400 1279 1379 1274 1357 1270 1334 1265 1311 1260 1288 1256 1265 1251 1240 1246 1216 1242 1191 1237 1165 1233 1139 1228 1113 1223 1086 1219 1059 1214 1031 1209 1002 1205 973 1200 944 1196 914 1191 883 1186 852 1182 821 1177 788 1172 756 1168 722 1163 688 1159 654 1154 619 1149 583 1145 546 1140 509 1135 472 1131 433 1126 394 1122 354 1117 314 1112 273 1108 231 1103 188 1098 145 1094 100 1089 56 1088 40\" />\n",
       " </g>\n",
       "<desc>Key =====</desc>\n",
       "<desc>Key - Line</desc>\n",
       " <g stroke-width=\"3\" stroke=\"Navy\" fill=\"none\" >\n",
       "  <path d=\"M643 3065L490 3065\" />\n",
       " </g>\n",
       "<desc>Key - Line</desc>\n",
       " <g stroke-width=\"3\" stroke=\"Maroon\" stroke-linecap=\"round\" stroke-dasharray=\"9 12\" fill=\"none\" >\n",
       "  <path d=\"M1175 3065L1022 3065\" />\n",
       " </g>\n",
       " <g fill=\"Navy\" font-family=\"Times New Roman\" font-size=\"90\" >\n",
       "  <text x=\"688\" y=\"3092\" >LJ plot</text>\n",
       " </g>\n",
       " <g fill=\"Navy\" font-family=\"Times New Roman\" font-size=\"90\" >\n",
       "  <text x=\"1220\" y=\"3092\" >LJ plot shifted</text>\n",
       " </g>\n",
       "<desc>Reset to original origin</desc>\n",
       "</g>\n",
       "</svg>\n"
      ]
     },
     "execution_count": 14,
     "metadata": {},
     "output_type": "execute_result"
    }
   ],
   "source": [
    "ELJ r ← {(⊂LJ ⍵)(⊂⍵)} 0.001×⍳5000 ⍝ Lennard-Jones plot\n",
    "rcutoff ← 2.5\n",
    "phicutoff ← -/4÷rcutoff*12 6       ⍝ Shifts the potential so E=0 when r/sig = 2.5\n",
    "ELJshift ← ELJ - phicutoff\n",
    "plot (⊂ELJ,r),(⊂ELJshift,r) "
   ]
  },
  {
   "cell_type": "markdown",
   "metadata": {},
   "source": [
    "## Reduced units\n",
    "We can choose units which absorb constants into their definition, and by doing so get a general behaviour for all gases. Mass, sigma, epsilon and the Boltzmann constant $k_B$ are set to equal one. Reduced variants of other properties are derived from these:\n",
    "\n",
    "Position $$x^* = {x \\over \\sigma}$$\n",
    "\n",
    "Velocity $$v^* = v{t^*\\over \\sigma}$$\n",
    "\n",
    "Time $$t^* = t \\left ( \\epsilon \\over {m \\sigma^2} \\right )^{1 \\over 2}$$\n",
    "\n",
    "Energy $$E^* = {E \\over \\epsilon}$$\n",
    "\n",
    "Force $$F^* = f{\\sigma \\over \\epsilon}$$\n",
    "\n",
    "Pressure $$P^* = P{\\sigma^{dimensions} \\over \\epsilon}$$\n",
    "\n",
    "Mass density $$\\rho^* = \\rho \\sigma^{dimensions}$$\n",
    "\n",
    "Temperature $$T^* = {k_B T \\over \\epsilon}$$\n",
    "\n",
    "Another advantage of reduced units is that our simulation values can be kept near the order of magnitude of one. This reduces our floating point errors so we can keep as large a precision as possible."
   ]
  },
  {
   "cell_type": "markdown",
   "metadata": {},
   "source": [
    "## Periodic boundary conditions\n",
    "By setting up our simulation on a [torus](https://en.wikipedia.org/wiki/Torus) (like the [Game of Life example in APL](http://dfns.dyalog.com/n_life.htm)), we can approximate the bulk behaviour of the material.\n",
    "\n",
    "In the illustration below, the black box is the area we simulate. Particles which travel out of an edge come back around the opposite side, as in the games PacMan and Snake. Particles near opposite boundaries will interact as though they were next to each other.\n",
    "<figure>\n",
    "    <img src=\"https://upload.wikimedia.org/wikipedia/commons/2/2e/Limiteperiodicite.svg\" width=\"400\" />\n",
    "    <figcaption>By <a target=\"_blank\" href=\"http://commons.wikimedia.org/wiki/User:Grimlock\">Grimlock</a>,<a target=\"_blank\" href=\"http://creativecommons.org/licenses/by-sa/3.0/\">CC BY-SA 3.0</a>,<a target=\"_blank\" href=\"https://commons.wikimedia.org/w/index.php?curid=2520550\">Link</a></figcaption>\n",
    "</figure>"
   ]
  },
  {
   "cell_type": "markdown",
   "metadata": {},
   "source": [
    "## Calculating forces\n",
    "The inter-particle forces are calculated from the derivative of the potential energy.\n",
    "\n",
    "In spherical coordinates:\n",
    "$$\\mathbf {F} = -{1 \\over r}\\nabla E(\\mathbf{r})$$\n",
    "\n",
    "$$\\textbf{F} = -\\frac{1}{r}\\nabla E_{LJ}(\\textbf{r}) = -\\frac{1}{r}\\frac{d E_{LJ}}{d \\textbf{r}} =  -24\\left[2\\left(\\frac{\\sigma}{\\textbf{r}}\\right)^{14} - \\left(\\frac{\\sigma}{\\textbf{r}}\\right)^{8}\\right]$$\n",
    "\n",
    "To make the periodic boundary conditions more convenient to implement, we will simulate the system using scaled coordinates between $0$ and $1$. If the distance between two particles is $> 0.5$, we subtract $0.5$ from the magnitude of the distance so particles on opposite boundaries react as if next to each other."
   ]
  },
  {
   "cell_type": "code",
   "execution_count": 16,
   "metadata": {},
   "outputs": [],
   "source": [
    " ∇ result←LJ pos;S;R;Rmask;Rsq;calcpos;Rcalcsq;rm2;rm6;rm12;phi;dphi;ene_pot;virial;acc;ids;f\n",
    "  ⍝ Lennard-Jones force with cutoff, defined as a dfn in APLPhys\n",
    "  ⍝ Number of atoms natoms\n",
    "  ⍝ Number of dimensions dim\n",
    "  ⍝ pos is a matrix with natoms rows and dim columns\n",
    " S←∘.-⍨↓pos             ⍝ Calculate distances between all pairs of atoms\n",
    " S-←((0.5∘<)-(¯0.5∘>))S ⍝ Periodic boundary conditions: If distance > 0.5, subtract 0.5. If distance < ¯0.5, add 0.5.\n",
    " R←S×¨⊂boxdim        ⍝ Scale back to reduced LJ units\n",
    "  ⍝ Calculate forces for distances inside cutoff\n",
    " Rmask←(rcutoff*2)>Rsq←+/¨R*2\n",
    " (1 1⍉Rmask)←0\n",
    " calcpos←⍸Rmask\n",
    " Rcalcsq←Rsq[calcpos]\n",
    " rm2←÷Rcalcsq\n",
    " rm6←rm2*3\n",
    " rm12←rm6*2\n",
    " phi←epsilon×4×(rm12-rm6)-phicutoff\n",
    " dphi←epsilon×24×rm2×(2×rm12)-rm6\n",
    " ene_pot←+/0.5×phi\n",
    " virial←-+/dphi×Rcalcsq\n",
    " acc←natoms dim⍴0\n",
    " (ids f)←↓[1](⊃¨calcpos){⍺,+/⍵}⌸dphi×S[calcpos] ⍝ Sum forces for each particle due to its neighbours\n",
    " acc[∪ids;]←↑f ⍝ Assign forces to corresponding rows in acc\n",
    " result←acc(ene_pot÷natoms)(-virial÷dim)\n",
    " ∇"
   ]
  },
  {
   "cell_type": "code",
   "execution_count": null,
   "metadata": {},
   "outputs": [],
   "source": []
  }
 ],
 "metadata": {
  "kernelspec": {
   "display_name": "Dyalog APL",
   "language": "apl",
   "name": "dyalog-kernel"
  },
  "language_info": {
   "file_extension": ".apl",
   "mimetype": "text/apl",
   "name": "APL"
  }
 },
 "nbformat": 4,
 "nbformat_minor": 2
}

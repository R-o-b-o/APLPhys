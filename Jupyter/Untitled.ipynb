{
 "cells": [
  {
   "cell_type": "code",
   "execution_count": 9,
   "metadata": {},
   "outputs": [],
   "source": [
    "⍝ Load scripted namespace\n",
    "2⎕FIX'file://../MiSite/Code/Particles.dyalog'"
   ]
  },
  {
   "cell_type": "code",
   "execution_count": 11,
   "metadata": {},
   "outputs": [
    {
     "data": {
      "text/html": [
       "<span style=\"white-space:pre; font-family: monospace\"> log←params LJMelt state                                                       \n",
       " (boxdim n epsilon rcutoff dt T)←params                                        \n",
       " (pos vel acc)←state                                                           \n",
       " phicutoff←-/4÷rcutoff*12 6                                                    \n",
       " volume←×/boxdim                                                               \n",
       " density←n÷volume ⍝ TODO these are constants                                   \n",
       "      ⍝(pos vel acc)←¯0.5+?3⍴⊂n dim⍴0 ⍝ Random initial conditions              \n",
       "      ⍝:for i :in ⍳nsteps ⍝ TODO RECURSIVE VERSION                             \n",
       "      ⍝pos←¯0.5+1|0.5+pos ⍝ Fold positions                                     \n",
       " pos←1|pos ⍝ Fold positions                                                    \n",
       " pos+←dt×vel+0.5×acc×dt ⍝ Step positions                                       \n",
       " ene_kin_avg temp←boxdim CalculateTemp vel                                     \n",
       " chi←0.5*⍨T÷temp ⍝ Rescale vel (Nose-Hoover thermostat TODO verify)            \n",
       " vel←(chi×vel)+0.5×dt×acc ⍝ v(t+dt÷2)                                          \n",
       "      ⍝ Quite long? ↓↓↓↓↓↓↓↓↓                                                  \n",
       " (acc ene_pot_avg virial)←(boxdim epsilon rcutoff phicutoff)ComputeForcesLJ pos\n",
       " vel+←0.5×dt×acc ⍝ Complete step                                               \n",
       "                                                                               \n",
       " ene_kin_avg temp←boxdim CalculateTemp vel                                     \n",
       " pressure←(density×temp)+virial÷volume                                         \n",
       "                                                                               \n",
       " log←pos vel acc ene_kin_avg ene_pot_avg temp pressure                         \n",
       "                                                                               \n",
       "      ⍝:Endfor                                                                 \n",
       "</span>"
      ]
     },
     "execution_count": 11,
     "metadata": {},
     "output_type": "execute_result"
    }
   ],
   "source": [
    "⎕CR'Particles.LJMelt'"
   ]
  }
 ],
 "metadata": {
  "kernelspec": {
   "display_name": "Dyalog APL",
   "language": "apl",
   "name": "dyalog-kernel"
  },
  "language_info": {
   "file_extension": ".apl",
   "mimetype": "text/apl",
   "name": "APL"
  }
 },
 "nbformat": 4,
 "nbformat_minor": 2
}
